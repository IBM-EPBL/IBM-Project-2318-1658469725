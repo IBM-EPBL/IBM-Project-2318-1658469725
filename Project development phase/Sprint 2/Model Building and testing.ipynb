{
 "cells": [
  {
   "cell_type": "code",
   "execution_count": null,
   "metadata": {},
   "outputs": [],
   "source": [
    "x_train = df_train.iloc[ : , : -1].values\n",
    "y_train = df_train. iloc[: , -1:].values"
   ]
  },
  {
   "cell_type": "code",
   "execution_count": null,
   "metadata": {},
   "outputs": [],
   "source": [
    "model = LogisticRegression(max_iter=1000)\n",
    "model = model.fit(x_train,y_train.ravel())"
   ]
  },
  {
   "cell_type": "code",
   "execution_count": null,
   "metadata": {},
   "outputs": [],
   "source": [
    "x_test = df_test.iloc[ : , : -1].values\n",
    "y_test = df_test. iloc[: , -1:].values"
   ]
  },
  {
   "cell_type": "code",
   "execution_count": null,
   "metadata": {},
   "outputs": [],
   "source": [
    "y_pred = model.predict(x_test)"
   ]
  },
  {
   "cell_type": "code",
   "execution_count": null,
   "metadata": {},
   "outputs": [],
   "source": [
    "accuracy_score(y_test,y_pred)"
   ]
  },
  {
   "cell_type": "code",
   "execution_count": null,
   "metadata": {},
   "outputs": [],
   "source": [
    "import joblib\n",
    "joblib.dump(model,'/content/engine_model.pkl')"
   ]
  },
  {
   "cell_type": "markdown",
   "metadata": {},
   "source": [
    "TESTING"
   ]
  },
  {
   "cell_type": "code",
   "execution_count": null,
   "metadata": {},
   "outputs": [],
   "source": [
    "from copyreg import pickle\n",
    "from io import StringIO\n",
    "import pandas as pd\n",
    "import numpy as np\n",
    "from sklearn.linear_model import LogisticRegression\n",
    "import pickle"
   ]
  },
  {
   "cell_type": "code",
   "execution_count": null,
   "metadata": {},
   "outputs": [],
   "source": [
    "model=joblib.load('/content/engine_model.pkl')"
   ]
  },
  {
   "cell_type": "code",
   "execution_count": null,
   "metadata": {},
   "outputs": [],
   "source": [
    "def predict(data):\n",
    "    try:\n",
    "        col_name = ['id','cycle','set1','set2','set3','s1','s2','s3','s4','s5','s6','s7','s8']+['s9','s10','s11','s12','s13','s14','s14','s15','s16','s17','s18','s19','s20']\n",
    "        test_dataset = pd.DataFrame([data],columns=col_name)\n",
    "        rul=pd.DataFrame(test_dataset.groupby(\"id\")['cycle'].max()).reset_index()\n",
    "        rul.columns = ['id','max']\n",
    "        truth_ds['rtf']=truth_ds['more']+rul[\"max\"]\n",
    "        truth_ds.head()\n",
    "        truth_ds['rtf']=truth_ds['more']+rul[\"max\"]\n",
    "        test_dataset=test_dataset.merge(truth_ds, on= ['id'], how= \"left\")\n",
    "        test_dataset[ 'ttf']=test_dataset['rtf'] - test_dataset['cycle']\n",
    "        test_dataset.drop ('rtf', axis=1, inplace=True)\n",
    "        df_test = test_dataset.copy()\n",
    "        period = 30\n",
    "        df_test['label_bc'] = df_test ['ttf'].apply(lambda x: 1 if x <= period else 0)\n",
    "        df_test = df_test.dropna()\n",
    "        if len(df_test.index) == 0 :\n",
    "            return True\n",
    "        x_test = df_test.iloc[ : , : -2].values\n",
    "        y_pred = model.predict(x_test)\n",
    "        return True if y_pred[0] else False\n",
    "    except:\n",
    "        return True"
   ]
  },
  {
   "cell_type": "code",
   "execution_count": null,
   "metadata": {},
   "outputs": [],
   "source": [
    "dt =  [100, 200, -0.0000, 0.0002, 100.0 , 518.67, 642.11, 1583.34, 1404.84, 14.62, 21.61, 553.89, 2388.05, 9051.39, 1.30, 47.31, 522.01, 2388.06, 8134.97, 8.3914, 0.03, 391, 2388, 100.00, 38.85, 23.3952]\n",
    "predict(dt)"
   ]
  }
 ],
 "metadata": {
  "language_info": {
   "name": "python"
  },
  "orig_nbformat": 4
 },
 "nbformat": 4,
 "nbformat_minor": 2
}
