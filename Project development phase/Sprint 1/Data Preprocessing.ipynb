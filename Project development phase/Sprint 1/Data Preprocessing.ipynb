{
 "cells": [
  {
   "cell_type": "code",
   "execution_count": null,
   "metadata": {},
   "outputs": [],
   "source": [
    "import pandas as pd\n",
    "import numpy as np\n",
    "import matplotlib.pyplot as plt\n",
    "from sklearn.preprocessing import MinMaxScaler\n",
    "from sklearn.metrics import confusion_matrix,accuracy_score\n",
    "from sklearn.linear_model import LogisticRegression\n",
    "plt.style.use('ggplot')\n",
    "%matplotlib inline"
   ]
  },
  {
   "cell_type": "code",
   "execution_count": null,
   "metadata": {},
   "outputs": [],
   "source": [
    "train_dataset = pd.read_csv('/content/PM_train.txt',sep=' ')\n",
    "train_dataset.drop(train_dataset.columns[[26,27]], axis=1,inplace=True)\n",
    "col_name = ['id','cycle','set1','set2','set3','s1','s2','s3','s4','s5','s6','s7','s8']+['s9','s10','s11','s12','s13','s14','s14','s15','s16','s17','s18','s19','s20']\n",
    "train_dataset.columns = col_name\n",
    "print(train_dataset.head(1))"
   ]
  },
  {
   "cell_type": "code",
   "execution_count": null,
   "metadata": {},
   "outputs": [],
   "source": [
    "test_dataset = pd.read_csv('/content/PM_test.txt',sep=' ')\n",
    "test_dataset.drop(test_dataset.columns[[26,27]], axis=1,inplace=True)\n",
    "test_dataset.columns = col_name\n",
    "#print(train_dataset.head(2))\n",
    "print(test_dataset.shape)\n",
    "test_dataset.dropna()"
   ]
  },
  {
   "cell_type": "code",
   "execution_count": null,
   "metadata": {},
   "outputs": [],
   "source": [
    "truth_ds = pd.read_csv('/content/PM_truth.txt',sep=' ')\n",
    "truth_ds.drop(truth_ds.columns[[1]], axis=1,inplace=True)\n",
    "truth_ds.columns = ['more']\n",
    "truth_ds['id'] = truth_ds.index+1\n",
    "print(truth_ds.head())"
   ]
  },
  {
   "cell_type": "code",
   "execution_count": null,
   "metadata": {},
   "outputs": [],
   "source": [
    "rul=pd.DataFrame(test_dataset.groupby(\"id\")['cycle'].max()).reset_index()\n",
    "rul.columns = ['id','max']\n",
    "rul.head()"
   ]
  },
  {
   "cell_type": "code",
   "execution_count": null,
   "metadata": {},
   "outputs": [],
   "source": [
    "truth_ds['rtf']=truth_ds['more']+rul[\"max\"]\n",
    "truth_ds.head ()"
   ]
  },
  {
   "cell_type": "code",
   "execution_count": null,
   "metadata": {},
   "outputs": [],
   "source": [
    "test_dataset=test_dataset.merge(truth_ds, on= ['id'], how= \"left\")\n",
    "test_dataset[ 'ttf']=test_dataset['rtf'] - test_dataset['cycle']\n",
    "test_dataset.drop ('rtf', axis=1, inplace=True)\n",
    "test_dataset. head()"
   ]
  },
  {
   "cell_type": "code",
   "execution_count": null,
   "metadata": {},
   "outputs": [],
   "source": [
    "train_dataset[ 'ttf'] = train_dataset.groupby([\"id\"])['cycle'].transform(max)-train_dataset['cycle']\n",
    "train_dataset.head()"
   ]
  },
  {
   "cell_type": "code",
   "execution_count": null,
   "metadata": {},
   "outputs": [],
   "source": [
    "df_train = train_dataset.copy()\n",
    "df_test = test_dataset.copy()\n",
    "period = 30\n",
    "df_train['label_bc'] = df_train [\"ttf\"].apply(lambda x: 1 if x <= period else 0)\n",
    "df_test['label_bc'] = df_test ['ttf'].apply(lambda x: 1 if x <= period else 0)\n",
    "df_test = df_test.dropna()\n",
    "df_train = df_train.dropna()\n",
    "df_train.tail()"
   ]
  }
 ],
 "metadata": {
  "language_info": {
   "name": "python"
  },
  "orig_nbformat": 4
 },
 "nbformat": 4,
 "nbformat_minor": 2
}
