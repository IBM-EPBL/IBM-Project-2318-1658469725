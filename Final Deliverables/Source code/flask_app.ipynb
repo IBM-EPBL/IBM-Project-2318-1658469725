{
 "cells": [
  {
   "cell_type": "code",
   "execution_count": 1,
   "id": "165a1531",
   "metadata": {},
   "outputs": [],
   "source": [
    "def predict(data):\n",
    "    try:\n",
    "        col_name = ['id','cycle','set1','set2','set3','s1','s2','s3','s4','s5','s6','s7','s8']+['s9','s10','s11','s12','s13','s14','s14','s15','s16','s17','s18','s19','s20']\n",
    "        test_dataset = pd.DataFrame([data],columns=col_name)\n",
    "        rul=pd.DataFrame(test_dataset.groupby(\"id\")['cycle'].max()).reset_index()\n",
    "        rul.columns = ['id','max']\n",
    "        truth_ds['rtf']=truth_ds['more']+rul[\"max\"]\n",
    "        truth_ds.head()\n",
    "        truth_ds['rtf']=truth_ds['more']+rul[\"max\"]\n",
    "        test_dataset=test_dataset.merge(truth_ds, on= ['id'], how= \"left\")\n",
    "        test_dataset[ 'ttf']=test_dataset['rtf'] - test_dataset['cycle']\n",
    "        test_dataset.drop ('rtf', axis=1, inplace=True)\n",
    "        df_test = test_dataset.copy()\n",
    "        period = 30\n",
    "        df_test['label_bc'] = df_test ['ttf'].apply(lambda x: 1 if x <= period else 0)\n",
    "        df_test = df_test.dropna()\n",
    "        if len(df_test.index) == 0 :\n",
    "            return True\n",
    "        x_test = df_test.iloc[ : , : -2].values\n",
    "        y_pred = model.predict(x_test)\n",
    "        return True if y_pred[0] else False\n",
    "    except:\n",
    "        return True"
   ]
  },
  {
   "cell_type": "code",
   "execution_count": null,
   "id": "88369f5d",
   "metadata": {},
   "outputs": [
    {
     "name": "stdout",
     "output_type": "stream",
     "text": [
      " * Serving Flask app '__main__' (lazy loading)\n",
      " * Environment: production\n",
      "\u001b[31m   WARNING: This is a development server. Do not use it in a production deployment.\u001b[0m\n",
      "\u001b[2m   Use a production WSGI server instead.\u001b[0m\n",
      " * Debug mode: off\n"
     ]
    },
    {
     "name": "stderr",
     "output_type": "stream",
     "text": [
      " * Running on http://127.0.0.1:5000/ (Press CTRL+C to quit)\n",
      "127.0.0.1 - - [15/Nov/2022 21:20:43] \"GET / HTTP/1.1\" 200 -\n",
      "C:\\Users\\Lenovo\\anaconda3\\lib\\site-packages\\sklearn\\base.py:329: UserWarning: Trying to unpickle estimator LogisticRegression from version 0.24.1 when using version 1.0.2. This might lead to breaking code or invalid results. Use at your own risk. For more info please refer to:\n",
      "https://scikit-learn.org/stable/modules/model_persistence.html#security-maintainability-limitations\n",
      "  warnings.warn(\n",
      "127.0.0.1 - - [15/Nov/2022 21:21:08] \"POST /pre HTTP/1.1\" 200 -\n"
     ]
    },
    {
     "name": "stdout",
     "output_type": "stream",
     "text": [
      "not a failure\n"
     ]
    }
   ],
   "source": [
    "from flask import Flask, render_template\n",
    "from flask import request\n",
    "from flask_cors import CORS\n",
    "import joblib\n",
    "\n",
    "app = Flask(__name__)\n",
    "CORS(app)\n",
    "\n",
    "@app.route('/')\n",
    "def index():\n",
    "    return render_template('ibm.html')\n",
    "@app.route('/pre', methods=['POST'])\n",
    "def result():\n",
    "    a=\"problem\"\n",
    "    b=\"not a failure\"\n",
    "    c=\"check the inputs\"\n",
    "    #try:\n",
    "        #if request.method == 'POST':\n",
    "    id1=float(request.form['id'])\n",
    "    cyc=float(request.form['cycle'])\n",
    "    set1=float(request.form['set1'])\n",
    "    set2=float(request.form['set2'])\n",
    "    set3=float(request.form['set3'])\n",
    "    s1=float(request.form['s1'])\n",
    "    s2=float(request.form['s2'])\n",
    "    s3=float(request.form['s3'])\n",
    "    s4=float(request.form['s4'])\n",
    "    s5=float(request.form['s5'])\n",
    "    s6=float(request.form['s6'])\n",
    "    s7=float(request.form['s7'])\n",
    "    s8=float(request.form['s8'])\n",
    "    s9=float(request.form['s9'])\n",
    "    s10=float(request.form['s10'])\n",
    "    s11=float(request.form['s11'])\n",
    "    s12=float(request.form['s12'])\n",
    "    s13=float(request.form['s13'])\n",
    "    s14=float(request.form['s14'])\n",
    "    s15=float(request.form['s15'])\n",
    "    s16=float(request.form['s16'])\n",
    "    s17=float(request.form['s17'])\n",
    "    s18=float(request.form['s18'])\n",
    "    s19=float(request.form['s19'])\n",
    "    s20=float(request.form['s20'])\n",
    "    s21=float(request.form['s21'])\n",
    "    last = predict([[id1,cyc,set1,set2,set3,s1,s2,s3,s4,s5,s6,s7,s8,s9,s10,s11,s12,s13,s14,s15,s16,s17,s18,s19,s20]])\n",
    "    model=joblib.load('engine_model.pkl')\n",
    "    l=[[id1,cyc,set1,set2,set3,s1,s2,s3,s4,s5,s6,s7,s8,s9,s10,s11,s12,s13,s14,s15,s16,s17,s18,s19,s20,s21,last]]\n",
    "    aa=model.predict(l)[0]\n",
    "    \n",
    "    if aa:\n",
    "        print(a)\n",
    "        val =a\n",
    "        #return a\n",
    "    else:\n",
    "        print(b)\n",
    "        val =b\n",
    "        #return b\n",
    "    return render_template('result.html', ans=val)\n",
    "    #except:\n",
    "    #    return c\n",
    "if __name__ == \"__main__\":\n",
    "    app.run(debug=False)"
   ]
  },
  {
   "cell_type": "code",
   "execution_count": null,
   "id": "fb011fbf",
   "metadata": {},
   "outputs": [],
   "source": []
  }
 ],
 "metadata": {
  "kernelspec": {
   "display_name": "Python 3 (ipykernel)",
   "language": "python",
   "name": "python3"
  },
  "language_info": {
   "codemirror_mode": {
    "name": "ipython",
    "version": 3
   },
   "file_extension": ".py",
   "mimetype": "text/x-python",
   "name": "python",
   "nbconvert_exporter": "python",
   "pygments_lexer": "ipython3",
   "version": "3.9.12"
  }
 },
 "nbformat": 4,
 "nbformat_minor": 5
}
